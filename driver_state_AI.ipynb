{
  "nbformat": 4,
  "nbformat_minor": 0,
  "metadata": {
    "colab": {
      "provenance": [],
      "gpuType": "T4"
    },
    "kernelspec": {
      "name": "python3",
      "display_name": "Python 3"
    },
    "language_info": {
      "name": "python"
    },
    "accelerator": "GPU"
  },
  "cells": [
    {
      "cell_type": "code",
      "source": [
        "from tensorflow.keras.preprocessing.image import img_to_array\n",
        "from tensorflow.keras.applications import MobileNetV2\n",
        "from tensorflow.keras.layers import AveragePooling2D\n",
        "from tensorflow.keras.layers import Dropout\n",
        "from tensorflow.keras.layers import Flatten\n",
        "from tensorflow.keras.layers import Dense\n",
        "from tensorflow.keras.layers import Input\n",
        "from tensorflow.keras.models import Model\n",
        "from keras.models import Sequential\n",
        "\n",
        "from sklearn.preprocessing import MultiLabelBinarizer\n",
        "from sklearn.model_selection import train_test_split\n",
        "from sklearn.metrics import classification_report\n",
        "\n",
        "import tensorflow as tf\n",
        "import matplotlib.pyplot as plt\n",
        "import numpy as np\n",
        "import random\n",
        "import cv2\n",
        "import os"
      ],
      "metadata": {
        "id": "TuwUfd5Ome2J"
      },
      "execution_count": null,
      "outputs": []
    },
    {
      "cell_type": "code",
      "source": [
        "print('os.getcwd():',os.getcwd())\n",
        "os.chdir('/content/drive/MyDrive')\n",
        "print('os.chdir():',os.getcwd())\n",
        "print(os.listdir())"
      ],
      "metadata": {
        "colab": {
          "base_uri": "https://localhost:8080/"
        },
        "id": "4RmU0BTPsYgY",
        "outputId": "2882ed54-3d10-4328-d5e4-36520a0b0781"
      },
      "execution_count": null,
      "outputs": [
        {
          "output_type": "stream",
          "name": "stdout",
          "text": [
            "os.getcwd(): /content\n",
            "os.chdir(): /content/drive/MyDrive\n",
            "['Colab Notebooks', 'Driver_state_classification.v1i.folder.zip']\n"
          ]
        }
      ]
    },
    {
      "cell_type": "markdown",
      "source": [
        "dataset 폴더 만들기(수동)"
      ],
      "metadata": {
        "id": "EdhIM_p-4hLo"
      }
    },
    {
      "cell_type": "code",
      "source": [
        "%cd /content/dataset\n",
        "!unzip -qq \"/content/drive/MyDrive/Driver_state_classification.v1i.folder.zip\""
      ],
      "metadata": {
        "colab": {
          "base_uri": "https://localhost:8080/"
        },
        "id": "d3INmFKnsZhG",
        "outputId": "abccc741-2fca-49ab-be2d-ba30ad2bf695"
      },
      "execution_count": null,
      "outputs": [
        {
          "output_type": "stream",
          "name": "stdout",
          "text": [
            "/content/dataset\n"
          ]
        }
      ]
    },
    {
      "cell_type": "code",
      "source": [
        "!pip install imutils"
      ],
      "metadata": {
        "colab": {
          "base_uri": "https://localhost:8080/"
        },
        "id": "9hk0HrPzmpwQ",
        "outputId": "0014def3-80e3-4f5b-9541-3767762bb82e"
      },
      "execution_count": null,
      "outputs": [
        {
          "output_type": "stream",
          "name": "stdout",
          "text": [
            "Requirement already satisfied: imutils in /usr/local/lib/python3.10/dist-packages (0.5.4)\n"
          ]
        }
      ]
    },
    {
      "cell_type": "code",
      "source": [
        "from imutils import paths"
      ],
      "metadata": {
        "id": "rUMl2vrAmrnk"
      },
      "execution_count": null,
      "outputs": []
    },
    {
      "cell_type": "code",
      "source": [
        "# 디렉토리에 있는 모든 이미지의 경로를 찾아서 그 리스트를 정렬함.\n",
        "imagePaths = sorted(list(paths.list_images(\"/content/dataset/train\")))\n",
        "\n",
        "# random.seed(42) -> 난수 생성기의 초기값을 설정한다. 이렇게 하면 코드를 실행할 때마다 동일한 순서의 난수가 생성되어 결과의 재현서을 보장함.\n",
        "# random.suffle(imagePaths) -> 이미지 경로의 리스트를 무작위로 섞는다.\n",
        "random.seed(42)\n",
        "random.shuffle(imagePaths)\n",
        "\n",
        "data = []\n",
        "labels = []\n",
        "image_dims = (224, 224, 3) # 모든 이미지를 리사이즈할 크기를 설정함. (높이, 너비, 채널 수(RGB))\n",
        "\n",
        "# train 파일 경로 리스트를 순회하면서,\n",
        "# 각 이미지를 읽고, 설정한 크기로 리사이징한 후,\n",
        "# 이미지 데이터를 벼열로 변환함.\n",
        "# 그런 다음, 변환된 이미지 데이터를 data리스트에 추가함.\n",
        "# 이미지의 경로를 분석하여 레이블을 추출하고, 이를 labels리스트에 추가함.\n",
        "for imagePath in imagePaths:\n",
        "    image = cv2.imread(imagePath)\n",
        "    image = cv2.resize(image, (image_dims[1], image_dims[0]))\n",
        "    image = img_to_array(image)\n",
        "    data.append(image)\n",
        "    l = label = imagePath.split(os.path.sep)[-2].split(\" \")\n",
        "    labels.append(l)\n",
        "\n",
        "# data리스트를 Numpy배열로 변환하고 모든 픽셀 값을 0과 1 사이의 값으로 정규화함.\n",
        "# labels리스트도 Numpy배열로 변환함.\n",
        "data = np.array(data, dtype=\"float\") / 255.0\n",
        "labels = np.array(labels)\n",
        "print(\"{} images ({:.2f}MB)\".format(len(imagePaths), data.nbytes / (1024 * 1000.0)))"
      ],
      "metadata": {
        "colab": {
          "base_uri": "https://localhost:8080/"
        },
        "id": "t6J5rFrDj60n",
        "outputId": "0315d434-dcd7-4641-fb80-fd47823eb6ed"
      },
      "execution_count": null,
      "outputs": [
        {
          "output_type": "stream",
          "name": "stdout",
          "text": [
            "1359 images (1598.18MB)\n"
          ]
        }
      ]
    },
    {
      "cell_type": "code",
      "source": [
        "data = np.array(data)\n",
        "label = np.array(labels)\n",
        "print(data.shape)"
      ],
      "metadata": {
        "colab": {
          "base_uri": "https://localhost:8080/"
        },
        "id": "RDWh9vXgm5c-",
        "outputId": "5989fb3c-1d37-41d9-8f7e-fd0bf6754827"
      },
      "execution_count": null,
      "outputs": [
        {
          "output_type": "stream",
          "name": "stdout",
          "text": [
            "(1359, 224, 224, 3)\n"
          ]
        }
      ]
    },
    {
      "cell_type": "code",
      "source": [
        "# MultiLabelBinarizer() -> 라벨 배열을 이진 형태의 배열로 변환하는데, 이는 멀티 라벨 분류 문제에 있어서 각 라벨의 존재 여부를 0과 1로 표현하는 방식임.\n",
        "mlb = MultiLabelBinarizer()\n",
        "labels = mlb.fit_transform(labels)\n",
        "# total 3 labels\n",
        "print(\"class labels:\")\n",
        "for (i, label) in enumerate(mlb.classes_):\n",
        "    print(\"{}. {}\".format(i + 1, label))"
      ],
      "metadata": {
        "colab": {
          "base_uri": "https://localhost:8080/"
        },
        "id": "pzSr_dZonCvj",
        "outputId": "5c6d031e-451c-4ba1-9249-abcc2e8d0844"
      },
      "execution_count": null,
      "outputs": [
        {
          "output_type": "stream",
          "name": "stdout",
          "text": [
            "class labels:\n",
            "1. abnormal_state\n",
            "2. drowsy_state\n",
            "3. normal_state\n"
          ]
        }
      ]
    },
    {
      "cell_type": "code",
      "source": [
        "def MobileNetV2_model(learning_rate, input_shape,class_number):\n",
        "    baseModel = MobileNetV2(include_top=False, input_tensor=Input(shape=input_shape)) # MobileNetV2 모델을 불러온다.\n",
        "    for layer in baseModel.layers[:-3]: # [:-3]을 해야할까?\n",
        "        layer.trainable = False\n",
        "\n",
        "    model = Sequential() # Sequential 모델을 생성\n",
        "    model.add(baseModel) # 위에서 생성한 MobileNetV2 모델을 첫 번째 층으로 추가함.\n",
        "    model.add(AveragePooling2D(pool_size=(2, 2))) # 평균 풀링 층을 추가합니다. 이는 특성 맵의 크기를 줄이는 데 사용됨.\n",
        "    model.add(Flatten()) # 특성 맵을 1차원 배열로 변환함.\n",
        "    model.add(Dense(512, activation=\"relu\")) # 512개의 뉴런을 가진 fully connected layer(Dense)를 추가하고, 활성화 함수로 ReLu를 사용함.\n",
        "    model.add(Dropout(0.5)) # 과적합을 방지하기 위해 드롭 아웃 층을 추가함. 0.5는 뉴런의 50%를 무작위로 0으로 설정함.\n",
        "    model.add(Dense(50, activation=\"relu\"))\n",
        "    model.add(Dropout(0.5))\n",
        "    model.add(Dense(class_number, activation='softmax')) # 최종층으로, 클래스의 수만큼 뉴런을 가진 Dense 층을 추가하고, softmax활성화 함수를 사용하여 출력을 확률로 변환함.\n",
        "\n",
        "    return model"
      ],
      "metadata": {
        "id": "1E8BL_udnGQh"
      },
      "execution_count": null,
      "outputs": []
    },
    {
      "cell_type": "code",
      "source": [
        "bs = 32\n",
        "lr = 0.0001\n",
        "size = (224, 224)\n",
        "shape = (224,224, 3)\n",
        "epochs = 10\n",
        "class_number = 3"
      ],
      "metadata": {
        "id": "nL-X0Tr-rP0T"
      },
      "execution_count": null,
      "outputs": []
    },
    {
      "cell_type": "code",
      "source": [
        "model = MobileNetV2_model(lr,shape,class_number)\n",
        "model.compile(loss= \"categorical_crossentropy\", metrics=[\"accuracy\"], optimizer=\"adam\")"
      ],
      "metadata": {
        "colab": {
          "base_uri": "https://localhost:8080/"
        },
        "id": "RBDSurw_rTCq",
        "outputId": "4d4d01e4-068b-4291-c7e2-57b464ecb246"
      },
      "execution_count": null,
      "outputs": [
        {
          "output_type": "stream",
          "name": "stderr",
          "text": [
            "WARNING:tensorflow:`input_shape` is undefined or non-square, or `rows` is not in [96, 128, 160, 192, 224]. Weights for input shape (224, 224) will be loaded as the default.\n"
          ]
        },
        {
          "output_type": "stream",
          "name": "stdout",
          "text": [
            "Downloading data from https://storage.googleapis.com/tensorflow/keras-applications/mobilenet_v2/mobilenet_v2_weights_tf_dim_ordering_tf_kernels_1.0_224_no_top.h5\n",
            "9406464/9406464 [==============================] - 0s 0us/step\n"
          ]
        }
      ]
    },
    {
      "cell_type": "code",
      "source": [
        "trainX, testX, trainY, testY = train_test_split(data, labels, test_size=0.20)"
      ],
      "metadata": {
        "id": "-gL1Te8urYGK"
      },
      "execution_count": null,
      "outputs": []
    },
    {
      "cell_type": "code",
      "source": [
        "print(\"[INFO] training ...\")\n",
        "H = model.fit(trainX, trainY, batch_size=32,steps_per_epoch=len(trainX) // 32,\tvalidation_data=(testX, testY),\tvalidation_steps=len(testX) // 32,\tepochs=20)"
      ],
      "metadata": {
        "colab": {
          "base_uri": "https://localhost:8080/"
        },
        "id": "Kv0-1nNfslhz",
        "outputId": "e45e0802-50bd-4570-b9b2-ddd0703efc99"
      },
      "execution_count": null,
      "outputs": [
        {
          "output_type": "stream",
          "name": "stdout",
          "text": [
            "[INFO] training ...\n",
            "Epoch 1/20\n",
            "33/33 [==============================] - 13s 112ms/step - loss: 1.8174 - accuracy: 0.6127 - val_loss: 0.4332 - val_accuracy: 0.8047\n",
            "Epoch 2/20\n",
            "33/33 [==============================] - 3s 56ms/step - loss: 0.6864 - accuracy: 0.7962 - val_loss: 0.4836 - val_accuracy: 0.8281\n",
            "Epoch 3/20\n",
            "33/33 [==============================] - 2s 66ms/step - loss: 0.4153 - accuracy: 0.8607 - val_loss: 0.1894 - val_accuracy: 0.9414\n",
            "Epoch 4/20\n",
            "33/33 [==============================] - 2s 56ms/step - loss: 0.2523 - accuracy: 0.9109 - val_loss: 0.2689 - val_accuracy: 0.9336\n",
            "Epoch 5/20\n",
            "33/33 [==============================] - 2s 66ms/step - loss: 0.1687 - accuracy: 0.9469 - val_loss: 0.3253 - val_accuracy: 0.9336\n",
            "Epoch 6/20\n",
            "33/33 [==============================] - 2s 62ms/step - loss: 0.1399 - accuracy: 0.9564 - val_loss: 0.3740 - val_accuracy: 0.9336\n",
            "Epoch 7/20\n",
            "33/33 [==============================] - 2s 73ms/step - loss: 0.1493 - accuracy: 0.9555 - val_loss: 0.2127 - val_accuracy: 0.9648\n",
            "Epoch 8/20\n",
            "33/33 [==============================] - 2s 56ms/step - loss: 0.0823 - accuracy: 0.9773 - val_loss: 0.4487 - val_accuracy: 0.9297\n",
            "Epoch 9/20\n",
            "33/33 [==============================] - 2s 57ms/step - loss: 0.1346 - accuracy: 0.9697 - val_loss: 0.2673 - val_accuracy: 0.9453\n",
            "Epoch 10/20\n",
            "33/33 [==============================] - 2s 71ms/step - loss: 0.0721 - accuracy: 0.9735 - val_loss: 0.3136 - val_accuracy: 0.9531\n",
            "Epoch 11/20\n",
            "33/33 [==============================] - 2s 72ms/step - loss: 0.0690 - accuracy: 0.9773 - val_loss: 0.2324 - val_accuracy: 0.9648\n",
            "Epoch 12/20\n",
            "33/33 [==============================] - 2s 67ms/step - loss: 0.0501 - accuracy: 0.9896 - val_loss: 0.3798 - val_accuracy: 0.9609\n",
            "Epoch 13/20\n",
            "33/33 [==============================] - 2s 73ms/step - loss: 0.0680 - accuracy: 0.9791 - val_loss: 0.2195 - val_accuracy: 0.9688\n",
            "Epoch 14/20\n",
            "33/33 [==============================] - 2s 57ms/step - loss: 0.0611 - accuracy: 0.9858 - val_loss: 0.4525 - val_accuracy: 0.9570\n",
            "Epoch 15/20\n",
            "33/33 [==============================] - 2s 58ms/step - loss: 0.0401 - accuracy: 0.9877 - val_loss: 0.1984 - val_accuracy: 0.9727\n",
            "Epoch 16/20\n",
            "33/33 [==============================] - 3s 79ms/step - loss: 0.0341 - accuracy: 0.9848 - val_loss: 0.1376 - val_accuracy: 0.9805\n",
            "Epoch 17/20\n",
            "33/33 [==============================] - 2s 62ms/step - loss: 0.0375 - accuracy: 0.9924 - val_loss: 0.2892 - val_accuracy: 0.9648\n",
            "Epoch 18/20\n",
            "33/33 [==============================] - 2s 73ms/step - loss: 0.0444 - accuracy: 0.9848 - val_loss: 0.2784 - val_accuracy: 0.9648\n",
            "Epoch 19/20\n",
            "33/33 [==============================] - 2s 73ms/step - loss: 0.0391 - accuracy: 0.9848 - val_loss: 0.1622 - val_accuracy: 0.9727\n",
            "Epoch 20/20\n",
            "33/33 [==============================] - 3s 85ms/step - loss: 0.0214 - accuracy: 0.9896 - val_loss: 0.3235 - val_accuracy: 0.9609\n"
          ]
        }
      ]
    },
    {
      "cell_type": "code",
      "source": [
        "print(\"[INFO] evaluating network...\")\n",
        "predIdxs = model.predict(testX, batch_size=32)\n",
        "\n",
        "# for each image in the testing set we need to find the index of the label with corresponding largest predicted probability\n",
        "predIdxs = np.argmax(predIdxs, axis=1)\n",
        "\n",
        "# show a nicely formatted classification report\n",
        "print(classification_report(testY.argmax(axis=1), predIdxs,target_names=mlb.classes_))"
      ],
      "metadata": {
        "colab": {
          "base_uri": "https://localhost:8080/"
        },
        "id": "XGcSBcNxsnwM",
        "outputId": "99e640e7-345a-4bdb-ed93-d986c55d1a7a"
      },
      "execution_count": null,
      "outputs": [
        {
          "output_type": "stream",
          "name": "stdout",
          "text": [
            "[INFO] evaluating network...\n",
            "9/9 [==============================] - 2s 155ms/step\n",
            "                precision    recall  f1-score   support\n",
            "\n",
            "abnormal_state       1.00      0.94      0.97        47\n",
            "  drowsy_state       0.98      0.93      0.95        85\n",
            "  normal_state       0.95      0.99      0.97       140\n",
            "\n",
            "      accuracy                           0.96       272\n",
            "     macro avg       0.97      0.95      0.96       272\n",
            "  weighted avg       0.96      0.96      0.96       272\n",
            "\n"
          ]
        }
      ]
    },
    {
      "cell_type": "code",
      "source": [
        "N = 20\n",
        "plt.style.use(\"ggplot\")\n",
        "plt.figure()\n",
        "plt.plot(np.arange(0, N), H.history[\"loss\"], label=\"train_loss\")\n",
        "plt.plot(np.arange(0, N), H.history[\"val_loss\"], label=\"val_loss\")\n",
        "plt.plot(np.arange(0, N), H.history[\"accuracy\"], label=\"train_acc\")\n",
        "plt.plot(np.arange(0, N), H.history[\"val_accuracy\"], label=\"val_acc\")\n",
        "plt.title(\"Training Loss and Accuracy\")\n",
        "plt.xlabel(\"Epoch #\")\n",
        "plt.ylabel(\"Loss/Accuracy\")\n",
        "plt.legend(loc=\"lower left\")"
      ],
      "metadata": {
        "colab": {
          "base_uri": "https://localhost:8080/",
          "height": 495
        },
        "id": "LQXfMl4WsxSQ",
        "outputId": "61def172-98df-450b-85ea-c3a3a11dd99f"
      },
      "execution_count": null,
      "outputs": [
        {
          "output_type": "execute_result",
          "data": {
            "text/plain": [
              "<matplotlib.legend.Legend at 0x7ebd72e4b550>"
            ]
          },
          "metadata": {},
          "execution_count": 27
        },
        {
          "output_type": "display_data",
          "data": {
            "text/plain": [
              "<Figure size 640x480 with 1 Axes>"
            ],
            "image/png": "[encoded data removed]"
          },
          "metadata": {}
        }
      ]
    },
    {
      "cell_type": "code",
      "source": [
        "image_path = \"/content/2.png\"\n",
        "image = cv2.imread(image_path)\n",
        "image = cv2.resize(image, (image_dims[1], image_dims[0]))\n",
        "image = img_to_array(image)\n",
        "image = np.expand_dims(image, axis=0)\n",
        "image = image / 255.0  # 데이터를 [0, 1] 범위로 정규화\n",
        "\n",
        "# 모델을 사용하여 예측\n",
        "prediction = model.predict(image)\n",
        "predicted_class_index = np.argmax(prediction)\n",
        "predicted_class = mlb.classes_[predicted_class_index]\n",
        "\n",
        "print(f\"The predicted class is: {predicted_class}, {prediction}\")"
      ],
      "metadata": {
        "colab": {
          "base_uri": "https://localhost:8080/"
        },
        "id": "YKbk-WGJs3fp",
        "outputId": "6cae6324-b287-4ece-cd82-ac1552ecafdf"
      },
      "execution_count": null,
      "outputs": [
        {
          "output_type": "stream",
          "name": "stdout",
          "text": [
            "1/1 [==============================] - 1s 719ms/step\n",
            "The predicted class is: drowsy_state\n"
          ]
        }
      ]
    },
    {
      "cell_type": "code",
      "source": [
        "import tensorflow as tf\n",
        "\n",
        "mobilenet_imagenet_model = tf.keras.applications.MobileNetV2(weights=\"imagenet\")\n",
        "\n",
        "converter = tf.lite.TFLiteConverter.from_keras_model(mobilenet_imagenet_model)\n",
        "tflite_model = converter.convert()\n",
        "\n",
        "with open('./mobilenet_imagenet_model.tflite','wb') as f:\n",
        "  f.write(tflite_model)"
      ],
      "metadata": {
        "id": "uM6RfhTTuifS"
      },
      "execution_count": null,
      "outputs": []
    },
    {
      "cell_type": "code",
      "source": [
        "# 모델을 TFLite 형식으로 변환\n",
        "\n",
        "converter = tf.lite.TFLiteConverter.from_keras_model(model)\n",
        "tflite_model = converter.convert()\n",
        "\n",
        "# 변환된 모델을 파일로 저장\n",
        "with open('/content/model.tflite', 'wb') as f:\n",
        "  f.write(tflite_model)"
      ],
      "metadata": {
        "id": "ki_aafQhtOpW",
        "colab": {
          "base_uri": "https://localhost:8080/"
        },
        "outputId": "abc62002-8806-4ee8-bbe2-4b79d26c51c3"
      },
      "execution_count": null,
      "outputs": [
        {
          "output_type": "stream",
          "name": "stderr",
          "text": [
            "WARNING:absl:`mobilenetv2_1.00_224_input` is not a valid tf.function parameter name. Sanitizing to `mobilenetv2_1_00_224_input`.\n",
            "WARNING:absl:`mobilenetv2_1.00_224_input` is not a valid tf.function parameter name. Sanitizing to `mobilenetv2_1_00_224_input`.\n",
            "WARNING:absl:`mobilenetv2_1.00_224_input` is not a valid tf.function parameter name. Sanitizing to `mobilenetv2_1_00_224_input`.\n"
          ]
        }
      ]
    }
  ]
}